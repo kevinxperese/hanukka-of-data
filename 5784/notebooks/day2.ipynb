{
 "cells": [
  {
   "cell_type": "markdown",
   "metadata": {},
   "source": [
    "# Hanukka of Data -- Day 2: The Contractor"
   ]
  },
  {
   "cell_type": "code",
   "execution_count": 1,
   "metadata": {},
   "outputs": [],
   "source": [
    "import pandas as pd"
   ]
  },
  {
   "cell_type": "code",
   "execution_count": 2,
   "metadata": {},
   "outputs": [],
   "source": [
    "customers = pd.read_csv(\"../data/5784/noahs-customers.csv\")\n",
    "products = pd.read_csv(\"../data/5784/noahs-products.csv\")\n",
    "order_items = pd.read_csv(\"../data/5784/noahs-orders_items.csv\")\n",
    "orders = pd.read_csv(\"../data/5784/noahs-orders.csv\")\n"
   ]
  },
  {
   "cell_type": "code",
   "execution_count": 3,
   "metadata": {},
   "outputs": [
    {
     "data": {
      "text/html": [
       "<div>\n",
       "<style scoped>\n",
       "    .dataframe tbody tr th:only-of-type {\n",
       "        vertical-align: middle;\n",
       "    }\n",
       "\n",
       "    .dataframe tbody tr th {\n",
       "        vertical-align: top;\n",
       "    }\n",
       "\n",
       "    .dataframe thead th {\n",
       "        text-align: right;\n",
       "    }\n",
       "</style>\n",
       "<table border=\"1\" class=\"dataframe\">\n",
       "  <thead>\n",
       "    <tr style=\"text-align: right;\">\n",
       "      <th></th>\n",
       "      <th>name</th>\n",
       "      <th>initials</th>\n",
       "      <th>customerid</th>\n",
       "      <th>phone</th>\n",
       "    </tr>\n",
       "  </thead>\n",
       "  <tbody>\n",
       "    <tr>\n",
       "      <th>165</th>\n",
       "      <td>John Phillips</td>\n",
       "      <td>JP</td>\n",
       "      <td>1166</td>\n",
       "      <td>716-900-2422</td>\n",
       "    </tr>\n",
       "    <tr>\n",
       "      <th>194</th>\n",
       "      <td>Julie Page</td>\n",
       "      <td>JP</td>\n",
       "      <td>1195</td>\n",
       "      <td>332-864-1901</td>\n",
       "    </tr>\n",
       "    <tr>\n",
       "      <th>263</th>\n",
       "      <td>Justin Perez</td>\n",
       "      <td>JP</td>\n",
       "      <td>1264</td>\n",
       "      <td>585-300-8492</td>\n",
       "    </tr>\n",
       "    <tr>\n",
       "      <th>297</th>\n",
       "      <td>Jacqueline Patel</td>\n",
       "      <td>JP</td>\n",
       "      <td>1298</td>\n",
       "      <td>430-877-4645</td>\n",
       "    </tr>\n",
       "    <tr>\n",
       "      <th>311</th>\n",
       "      <td>Judy Page</td>\n",
       "      <td>JP</td>\n",
       "      <td>1312</td>\n",
       "      <td>516-779-4396</td>\n",
       "    </tr>\n",
       "  </tbody>\n",
       "</table>\n",
       "</div>"
      ],
      "text/plain": [
       "                 name initials  customerid         phone\n",
       "165     John Phillips       JP        1166  716-900-2422\n",
       "194        Julie Page       JP        1195  332-864-1901\n",
       "263      Justin Perez       JP        1264  585-300-8492\n",
       "297  Jacqueline Patel       JP        1298  430-877-4645\n",
       "311         Judy Page       JP        1312  516-779-4396"
      ]
     },
     "execution_count": 3,
     "metadata": {},
     "output_type": "execute_result"
    }
   ],
   "source": [
    "customers[\"first_name\"] = customers[\"name\"].str.split(\" \").str[0]\n",
    "customers[\"last_name\"] = customers[\"name\"].str.split(\" \").str[1]\n",
    "customers[\"initials\"] = customers[\"first_name\"].str[0] + customers[\"last_name\"].str[0]\n",
    "\n",
    "customers_JP = customers.loc[customers[\"initials\"] == \"JP\", [\"name\", \"initials\", \"customerid\", \"phone\"]]\n",
    "customers_JP.head()"
   ]
  },
  {
   "cell_type": "code",
   "execution_count": 4,
   "metadata": {},
   "outputs": [
    {
     "data": {
      "text/plain": [
       "'HOM2761'"
      ]
     },
     "execution_count": 4,
     "metadata": {},
     "output_type": "execute_result"
    }
   ],
   "source": [
    "rug_cleaner_sku = products.loc[products[\"desc\"] == \"Rug Cleaner\", \"sku\"].values[0]\n",
    "rug_cleaner_sku"
   ]
  },
  {
   "cell_type": "code",
   "execution_count": 5,
   "metadata": {},
   "outputs": [],
   "source": [
    "rug_cleaner_orderids = order_items.loc[order_items[\"sku\"] == rug_cleaner_sku, \"orderid\"].to_list()"
   ]
  },
  {
   "cell_type": "code",
   "execution_count": 6,
   "metadata": {},
   "outputs": [
    {
     "data": {
      "text/html": [
       "<div>\n",
       "<style scoped>\n",
       "    .dataframe tbody tr th:only-of-type {\n",
       "        vertical-align: middle;\n",
       "    }\n",
       "\n",
       "    .dataframe tbody tr th {\n",
       "        vertical-align: top;\n",
       "    }\n",
       "\n",
       "    .dataframe thead th {\n",
       "        text-align: right;\n",
       "    }\n",
       "</style>\n",
       "<table border=\"1\" class=\"dataframe\">\n",
       "  <thead>\n",
       "    <tr style=\"text-align: right;\">\n",
       "      <th></th>\n",
       "      <th>orderid</th>\n",
       "      <th>customerid</th>\n",
       "      <th>ordered</th>\n",
       "      <th>shipped</th>\n",
       "      <th>items</th>\n",
       "      <th>total</th>\n",
       "    </tr>\n",
       "  </thead>\n",
       "  <tbody>\n",
       "    <tr>\n",
       "      <th>474</th>\n",
       "      <td>1475</td>\n",
       "      <td>8688</td>\n",
       "      <td>2017-02-04 17:59:20</td>\n",
       "      <td>2017-02-11 08:00:00</td>\n",
       "      <td>NaN</td>\n",
       "      <td>20.43</td>\n",
       "    </tr>\n",
       "    <tr>\n",
       "      <th>1029</th>\n",
       "      <td>2030</td>\n",
       "      <td>1843</td>\n",
       "      <td>2017-02-10 08:03:42</td>\n",
       "      <td>2017-02-10 15:00:00</td>\n",
       "      <td>NaN</td>\n",
       "      <td>7.50</td>\n",
       "    </tr>\n",
       "    <tr>\n",
       "      <th>2083</th>\n",
       "      <td>3084</td>\n",
       "      <td>3649</td>\n",
       "      <td>2017-02-19 15:31:01</td>\n",
       "      <td>2017-02-19 15:31:01</td>\n",
       "      <td>NaN</td>\n",
       "      <td>7.35</td>\n",
       "    </tr>\n",
       "    <tr>\n",
       "      <th>3041</th>\n",
       "      <td>4042</td>\n",
       "      <td>7271</td>\n",
       "      <td>2017-03-01 12:53:18</td>\n",
       "      <td>2017-03-01 12:53:18</td>\n",
       "      <td>NaN</td>\n",
       "      <td>2.03</td>\n",
       "    </tr>\n",
       "    <tr>\n",
       "      <th>4173</th>\n",
       "      <td>5174</td>\n",
       "      <td>8587</td>\n",
       "      <td>2017-03-12 16:33:06</td>\n",
       "      <td>2017-03-12 17:00:00</td>\n",
       "      <td>NaN</td>\n",
       "      <td>8.48</td>\n",
       "    </tr>\n",
       "  </tbody>\n",
       "</table>\n",
       "</div>"
      ],
      "text/plain": [
       "      orderid  customerid              ordered              shipped  items  \\\n",
       "474      1475        8688  2017-02-04 17:59:20  2017-02-11 08:00:00    NaN   \n",
       "1029     2030        1843  2017-02-10 08:03:42  2017-02-10 15:00:00    NaN   \n",
       "2083     3084        3649  2017-02-19 15:31:01  2017-02-19 15:31:01    NaN   \n",
       "3041     4042        7271  2017-03-01 12:53:18  2017-03-01 12:53:18    NaN   \n",
       "4173     5174        8587  2017-03-12 16:33:06  2017-03-12 17:00:00    NaN   \n",
       "\n",
       "      total  \n",
       "474   20.43  \n",
       "1029   7.50  \n",
       "2083   7.35  \n",
       "3041   2.03  \n",
       "4173   8.48  "
      ]
     },
     "execution_count": 6,
     "metadata": {},
     "output_type": "execute_result"
    }
   ],
   "source": [
    "rug_cleaner_orders = orders.loc[orders[\"orderid\"].isin(rug_cleaner_orderids)]\n",
    "rug_cleaner_orders.head()"
   ]
  },
  {
   "cell_type": "code",
   "execution_count": 7,
   "metadata": {},
   "outputs": [
    {
     "data": {
      "text/html": [
       "<div>\n",
       "<style scoped>\n",
       "    .dataframe tbody tr th:only-of-type {\n",
       "        vertical-align: middle;\n",
       "    }\n",
       "\n",
       "    .dataframe tbody tr th {\n",
       "        vertical-align: top;\n",
       "    }\n",
       "\n",
       "    .dataframe thead th {\n",
       "        text-align: right;\n",
       "    }\n",
       "</style>\n",
       "<table border=\"1\" class=\"dataframe\">\n",
       "  <thead>\n",
       "    <tr style=\"text-align: right;\">\n",
       "      <th></th>\n",
       "      <th>name</th>\n",
       "      <th>initials</th>\n",
       "      <th>customerid</th>\n",
       "      <th>phone</th>\n",
       "      <th>orderid</th>\n",
       "      <th>ordered</th>\n",
       "      <th>shipped</th>\n",
       "      <th>items</th>\n",
       "      <th>total</th>\n",
       "    </tr>\n",
       "  </thead>\n",
       "  <tbody>\n",
       "    <tr>\n",
       "      <th>0</th>\n",
       "      <td>Joshua Peterson</td>\n",
       "      <td>JP</td>\n",
       "      <td>1475</td>\n",
       "      <td>332-274-4185</td>\n",
       "      <td>7459</td>\n",
       "      <td>2017-04-05 11:42:15</td>\n",
       "      <td>2017-04-05 11:42:15</td>\n",
       "      <td>NaN</td>\n",
       "      <td>4.96</td>\n",
       "    </tr>\n",
       "    <tr>\n",
       "      <th>1</th>\n",
       "      <td>Joshua Peterson</td>\n",
       "      <td>JP</td>\n",
       "      <td>1475</td>\n",
       "      <td>332-274-4185</td>\n",
       "      <td>7783</td>\n",
       "      <td>2017-04-08 14:53:52</td>\n",
       "      <td>2017-04-08 14:53:52</td>\n",
       "      <td>NaN</td>\n",
       "      <td>3.98</td>\n",
       "    </tr>\n",
       "    <tr>\n",
       "      <th>2</th>\n",
       "      <td>Joshua Peterson</td>\n",
       "      <td>JP</td>\n",
       "      <td>1475</td>\n",
       "      <td>332-274-4185</td>\n",
       "      <td>8051</td>\n",
       "      <td>2017-04-11 07:02:16</td>\n",
       "      <td>2017-04-11 07:02:16</td>\n",
       "      <td>NaN</td>\n",
       "      <td>3.54</td>\n",
       "    </tr>\n",
       "    <tr>\n",
       "      <th>3</th>\n",
       "      <td>Joshua Peterson</td>\n",
       "      <td>JP</td>\n",
       "      <td>1475</td>\n",
       "      <td>332-274-4185</td>\n",
       "      <td>8375</td>\n",
       "      <td>2017-04-14 15:58:01</td>\n",
       "      <td>2017-04-14 15:58:01</td>\n",
       "      <td>NaN</td>\n",
       "      <td>3.58</td>\n",
       "    </tr>\n",
       "    <tr>\n",
       "      <th>4</th>\n",
       "      <td>Joshua Peterson</td>\n",
       "      <td>JP</td>\n",
       "      <td>1475</td>\n",
       "      <td>332-274-4185</td>\n",
       "      <td>8663</td>\n",
       "      <td>2017-04-17 12:12:21</td>\n",
       "      <td>2017-04-17 12:12:21</td>\n",
       "      <td>NaN</td>\n",
       "      <td>3.36</td>\n",
       "    </tr>\n",
       "  </tbody>\n",
       "</table>\n",
       "</div>"
      ],
      "text/plain": [
       "              name initials  customerid         phone  orderid  \\\n",
       "0  Joshua Peterson       JP        1475  332-274-4185     7459   \n",
       "1  Joshua Peterson       JP        1475  332-274-4185     7783   \n",
       "2  Joshua Peterson       JP        1475  332-274-4185     8051   \n",
       "3  Joshua Peterson       JP        1475  332-274-4185     8375   \n",
       "4  Joshua Peterson       JP        1475  332-274-4185     8663   \n",
       "\n",
       "               ordered              shipped  items  total  \n",
       "0  2017-04-05 11:42:15  2017-04-05 11:42:15    NaN   4.96  \n",
       "1  2017-04-08 14:53:52  2017-04-08 14:53:52    NaN   3.98  \n",
       "2  2017-04-11 07:02:16  2017-04-11 07:02:16    NaN   3.54  \n",
       "3  2017-04-14 15:58:01  2017-04-14 15:58:01    NaN   3.58  \n",
       "4  2017-04-17 12:12:21  2017-04-17 12:12:21    NaN   3.36  "
      ]
     },
     "execution_count": 7,
     "metadata": {},
     "output_type": "execute_result"
    }
   ],
   "source": [
    "match = pd.merge(customers_JP, rug_cleaner_orders, how=\"inner\", on=\"customerid\")\n",
    "match.loc[match[\"ordered\"].str[:4] == \"2017\"]"
   ]
  }
 ],
 "metadata": {
  "kernelspec": {
   "display_name": "base",
   "language": "python",
   "name": "python3"
  },
  "language_info": {
   "codemirror_mode": {
    "name": "ipython",
    "version": 3
   },
   "file_extension": ".py",
   "mimetype": "text/x-python",
   "name": "python",
   "nbconvert_exporter": "python",
   "pygments_lexer": "ipython3",
   "version": "3.9.13"
  }
 },
 "nbformat": 4,
 "nbformat_minor": 2
}
