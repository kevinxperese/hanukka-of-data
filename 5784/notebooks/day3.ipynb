{
 "cells": [
  {
   "cell_type": "markdown",
   "metadata": {},
   "source": [
    "# Hanukka of Data -- Day 3: The Neighbor"
   ]
  },
  {
   "cell_type": "code",
   "execution_count": 1,
   "metadata": {},
   "outputs": [],
   "source": [
    "import pandas as pd"
   ]
  },
  {
   "cell_type": "code",
   "execution_count": 2,
   "metadata": {},
   "outputs": [],
   "source": [
    "customers = pd.read_csv(\"../data/5784/noahs-customers.csv\")"
   ]
  },
  {
   "cell_type": "code",
   "execution_count": 3,
   "metadata": {},
   "outputs": [],
   "source": [
    "rabbit_years = [\n",
    "    1903,\n",
    "    1915,\n",
    "    1927,\n",
    "    1939,\n",
    "    1951,\n",
    "    1963,\n",
    "    1975,\n",
    "    1987,\n",
    "    1999\n",
    "]"
   ]
  },
  {
   "cell_type": "code",
   "execution_count": 4,
   "metadata": {},
   "outputs": [],
   "source": [
    "cancer_range = [\"-06-22\", \"-07-22\"]"
   ]
  },
  {
   "cell_type": "code",
   "execution_count": 5,
   "metadata": {},
   "outputs": [
    {
     "data": {
      "text/plain": [
       "0   1958-01-23\n",
       "1   1956-12-03\n",
       "2   2001-09-20\n",
       "3   1959-07-10\n",
       "4   1988-09-08\n",
       "Name: birthdate, dtype: datetime64[ns]"
      ]
     },
     "execution_count": 5,
     "metadata": {},
     "output_type": "execute_result"
    }
   ],
   "source": [
    "pd.to_datetime(customers[\"birthdate\"]).head()"
   ]
  },
  {
   "cell_type": "code",
   "execution_count": 6,
   "metadata": {},
   "outputs": [
    {
     "name": "stdout",
     "output_type": "stream",
     "text": [
      "<class 'pandas.core.frame.DataFrame'>\n",
      "Int64Index: 714 entries, 9 to 8237\n",
      "Data columns (total 9 columns):\n",
      " #   Column        Non-Null Count  Dtype  \n",
      "---  ------        --------------  -----  \n",
      " 0   customerid    714 non-null    int64  \n",
      " 1   name          714 non-null    object \n",
      " 2   address       714 non-null    object \n",
      " 3   citystatezip  714 non-null    object \n",
      " 4   birthdate     714 non-null    object \n",
      " 5   phone         714 non-null    object \n",
      " 6   timezone      714 non-null    object \n",
      " 7   lat           714 non-null    float64\n",
      " 8   long          714 non-null    float64\n",
      "dtypes: float64(2), int64(1), object(6)\n",
      "memory usage: 55.8+ KB\n"
     ]
    }
   ],
   "source": [
    "birthdates = pd.to_datetime(customers[\"birthdate\"])\n",
    "\n",
    "rabbits = customers.loc[birthdates.dt.year.isin(rabbit_years)]\n",
    "rabbits.info()"
   ]
  },
  {
   "cell_type": "code",
   "execution_count": 7,
   "metadata": {},
   "outputs": [
    {
     "data": {
      "text/plain": [
       "'Jamaica, NY 11435'"
      ]
     },
     "execution_count": 7,
     "metadata": {},
     "output_type": "execute_result"
    }
   ],
   "source": [
    "contractor_neighborhood = customers.loc[customers[\"phone\"] == \"332-274-4185\", \"citystatezip\"].values[0]\n",
    "contractor_neighborhood"
   ]
  },
  {
   "cell_type": "code",
   "execution_count": 8,
   "metadata": {},
   "outputs": [],
   "source": [
    "neighbors = rabbits.loc[(rabbits[\"citystatezip\"] == contractor_neighborhood)]"
   ]
  },
  {
   "cell_type": "code",
   "execution_count": 9,
   "metadata": {},
   "outputs": [
    {
     "data": {
      "text/html": [
       "<div>\n",
       "<style scoped>\n",
       "    .dataframe tbody tr th:only-of-type {\n",
       "        vertical-align: middle;\n",
       "    }\n",
       "\n",
       "    .dataframe tbody tr th {\n",
       "        vertical-align: top;\n",
       "    }\n",
       "\n",
       "    .dataframe thead th {\n",
       "        text-align: right;\n",
       "    }\n",
       "</style>\n",
       "<table border=\"1\" class=\"dataframe\">\n",
       "  <thead>\n",
       "    <tr style=\"text-align: right;\">\n",
       "      <th></th>\n",
       "      <th>customerid</th>\n",
       "      <th>name</th>\n",
       "      <th>address</th>\n",
       "      <th>citystatezip</th>\n",
       "      <th>birthdate</th>\n",
       "      <th>phone</th>\n",
       "      <th>timezone</th>\n",
       "      <th>lat</th>\n",
       "      <th>long</th>\n",
       "    </tr>\n",
       "  </thead>\n",
       "  <tbody>\n",
       "    <tr>\n",
       "      <th>1549</th>\n",
       "      <td>2550</td>\n",
       "      <td>Robert Morton</td>\n",
       "      <td>145-51 107th Ave</td>\n",
       "      <td>Jamaica, NY 11435</td>\n",
       "      <td>1999-07-08</td>\n",
       "      <td>917-288-9635</td>\n",
       "      <td>America/New_York</td>\n",
       "      <td>40.68959</td>\n",
       "      <td>-73.80487</td>\n",
       "    </tr>\n",
       "  </tbody>\n",
       "</table>\n",
       "</div>"
      ],
      "text/plain": [
       "      customerid           name           address       citystatezip  \\\n",
       "1549        2550  Robert Morton  145-51 107th Ave  Jamaica, NY 11435   \n",
       "\n",
       "       birthdate         phone          timezone       lat      long  \n",
       "1549  1999-07-08  917-288-9635  America/New_York  40.68959 -73.80487  "
      ]
     },
     "execution_count": 9,
     "metadata": {},
     "output_type": "execute_result"
    }
   ],
   "source": [
    "birthdates = pd.to_datetime(neighbors[\"birthdate\"])\n",
    "\n",
    "cancer_start = pd.to_datetime(pd.to_datetime(neighbors[\"birthdate\"]).dt.year.astype(\"str\") + cancer_range[0])\n",
    "cancer_end = pd.to_datetime(pd.to_datetime(neighbors[\"birthdate\"]).dt.year.astype(\"str\") + cancer_range[1])\n",
    "\n",
    "neighbors.loc[(cancer_start <= birthdates) & (birthdates <= cancer_end)]"
   ]
  }
 ],
 "metadata": {
  "kernelspec": {
   "display_name": "base",
   "language": "python",
   "name": "python3"
  },
  "language_info": {
   "codemirror_mode": {
    "name": "ipython",
    "version": 3
   },
   "file_extension": ".py",
   "mimetype": "text/x-python",
   "name": "python",
   "nbconvert_exporter": "python",
   "pygments_lexer": "ipython3",
   "version": "3.9.13"
  }
 },
 "nbformat": 4,
 "nbformat_minor": 2
}
