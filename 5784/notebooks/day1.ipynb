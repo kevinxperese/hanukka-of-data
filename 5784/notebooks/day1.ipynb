{
 "cells": [
  {
   "cell_type": "markdown",
   "metadata": {},
   "source": [
    "# Hanukka of Data \n",
    "## Day 1: The Investigator"
   ]
  },
  {
   "cell_type": "code",
   "execution_count": 2,
   "metadata": {},
   "outputs": [],
   "source": [
    "import pandas as pd"
   ]
  },
  {
   "cell_type": "code",
   "execution_count": 3,
   "metadata": {},
   "outputs": [
    {
     "name": "stdout",
     "output_type": "stream",
     "text": [
      "<class 'pandas.core.frame.DataFrame'>\n",
      "RangeIndex: 8260 entries, 0 to 8259\n",
      "Data columns (total 9 columns):\n",
      " #   Column        Non-Null Count  Dtype  \n",
      "---  ------        --------------  -----  \n",
      " 0   customerid    8260 non-null   int64  \n",
      " 1   name          8260 non-null   object \n",
      " 2   address       8260 non-null   object \n",
      " 3   citystatezip  8260 non-null   object \n",
      " 4   birthdate     8260 non-null   object \n",
      " 5   phone         8260 non-null   object \n",
      " 6   timezone      8260 non-null   object \n",
      " 7   lat           8260 non-null   float64\n",
      " 8   long          8260 non-null   float64\n",
      "dtypes: float64(2), int64(1), object(6)\n",
      "memory usage: 580.9+ KB\n"
     ]
    }
   ],
   "source": [
    "customers = pd.read_csv(\"../data/5784/noahs-customers.csv\")\n",
    "customers.info()"
   ]
  },
  {
   "cell_type": "code",
   "execution_count": 4,
   "metadata": {},
   "outputs": [
    {
     "data": {
      "text/html": [
       "<div>\n",
       "<style scoped>\n",
       "    .dataframe tbody tr th:only-of-type {\n",
       "        vertical-align: middle;\n",
       "    }\n",
       "\n",
       "    .dataframe tbody tr th {\n",
       "        vertical-align: top;\n",
       "    }\n",
       "\n",
       "    .dataframe thead th {\n",
       "        text-align: right;\n",
       "    }\n",
       "</style>\n",
       "<table border=\"1\" class=\"dataframe\">\n",
       "  <thead>\n",
       "    <tr style=\"text-align: right;\">\n",
       "      <th></th>\n",
       "      <th>customerid</th>\n",
       "      <th>name</th>\n",
       "      <th>address</th>\n",
       "      <th>citystatezip</th>\n",
       "      <th>birthdate</th>\n",
       "      <th>phone</th>\n",
       "      <th>timezone</th>\n",
       "      <th>lat</th>\n",
       "      <th>long</th>\n",
       "    </tr>\n",
       "  </thead>\n",
       "  <tbody>\n",
       "    <tr>\n",
       "      <th>0</th>\n",
       "      <td>1001</td>\n",
       "      <td>Jacqueline Alvarez</td>\n",
       "      <td>105N Elizabeth St</td>\n",
       "      <td>Manhattan, NY 10013</td>\n",
       "      <td>1958-01-23</td>\n",
       "      <td>315-377-5031</td>\n",
       "      <td>America/New_York</td>\n",
       "      <td>40.71817</td>\n",
       "      <td>-73.997468</td>\n",
       "    </tr>\n",
       "    <tr>\n",
       "      <th>1</th>\n",
       "      <td>1002</td>\n",
       "      <td>Julie Howell</td>\n",
       "      <td>185-1 Linden St</td>\n",
       "      <td>Brooklyn, NY 11221</td>\n",
       "      <td>1956-12-03</td>\n",
       "      <td>680-537-8725</td>\n",
       "      <td>America/New_York</td>\n",
       "      <td>40.69426</td>\n",
       "      <td>-73.921670</td>\n",
       "    </tr>\n",
       "    <tr>\n",
       "      <th>2</th>\n",
       "      <td>1003</td>\n",
       "      <td>Christopher Ali</td>\n",
       "      <td>174-28 Baisley Blvd</td>\n",
       "      <td>Jamaica, NY 11434</td>\n",
       "      <td>2001-09-20</td>\n",
       "      <td>315-846-6054</td>\n",
       "      <td>America/New_York</td>\n",
       "      <td>40.68902</td>\n",
       "      <td>-73.773470</td>\n",
       "    </tr>\n",
       "    <tr>\n",
       "      <th>3</th>\n",
       "      <td>1004</td>\n",
       "      <td>Christopher Rodriguez</td>\n",
       "      <td>102 Mount Hope Pl</td>\n",
       "      <td>Bronx, NY 10453</td>\n",
       "      <td>1959-07-10</td>\n",
       "      <td>516-275-2292</td>\n",
       "      <td>America/New_York</td>\n",
       "      <td>40.84939</td>\n",
       "      <td>-73.909160</td>\n",
       "    </tr>\n",
       "    <tr>\n",
       "      <th>4</th>\n",
       "      <td>1005</td>\n",
       "      <td>Jeffrey Wilkinson</td>\n",
       "      <td>17 St Marks Pl</td>\n",
       "      <td>Manhattan, NY 10003</td>\n",
       "      <td>1988-09-08</td>\n",
       "      <td>838-830-6960</td>\n",
       "      <td>America/New_York</td>\n",
       "      <td>40.72804</td>\n",
       "      <td>-73.987120</td>\n",
       "    </tr>\n",
       "  </tbody>\n",
       "</table>\n",
       "</div>"
      ],
      "text/plain": [
       "   customerid                   name              address  \\\n",
       "0        1001     Jacqueline Alvarez    105N Elizabeth St   \n",
       "1        1002           Julie Howell      185-1 Linden St   \n",
       "2        1003        Christopher Ali  174-28 Baisley Blvd   \n",
       "3        1004  Christopher Rodriguez    102 Mount Hope Pl   \n",
       "4        1005      Jeffrey Wilkinson       17 St Marks Pl   \n",
       "\n",
       "          citystatezip   birthdate         phone          timezone       lat  \\\n",
       "0  Manhattan, NY 10013  1958-01-23  315-377-5031  America/New_York  40.71817   \n",
       "1   Brooklyn, NY 11221  1956-12-03  680-537-8725  America/New_York  40.69426   \n",
       "2    Jamaica, NY 11434  2001-09-20  315-846-6054  America/New_York  40.68902   \n",
       "3      Bronx, NY 10453  1959-07-10  516-275-2292  America/New_York  40.84939   \n",
       "4  Manhattan, NY 10003  1988-09-08  838-830-6960  America/New_York  40.72804   \n",
       "\n",
       "        long  \n",
       "0 -73.997468  \n",
       "1 -73.921670  \n",
       "2 -73.773470  \n",
       "3 -73.909160  \n",
       "4 -73.987120  "
      ]
     },
     "execution_count": 4,
     "metadata": {},
     "output_type": "execute_result"
    }
   ],
   "source": [
    "customers.head()"
   ]
  },
  {
   "cell_type": "code",
   "execution_count": 28,
   "metadata": {},
   "outputs": [],
   "source": [
    "phone = {\n",
    "    \"ABC\" : \"2\",\n",
    "    \"DEF\" : \"3\",\n",
    "    \"GHI\" : \"4\",\n",
    "    \"JKL\" : \"5\",\n",
    "    \"MNO\" : \"6\",\n",
    "    \"PQRS\" : \"7\",\n",
    "    \"TUV\" : \"8\",\n",
    "    \"WXYZ\" : \"9\"\n",
    "}"
   ]
  },
  {
   "cell_type": "code",
   "execution_count": 29,
   "metadata": {},
   "outputs": [
    {
     "data": {
      "text/plain": [
       "{'A': '2',\n",
       " 'B': '2',\n",
       " 'C': '2',\n",
       " 'D': '3',\n",
       " 'E': '3',\n",
       " 'F': '3',\n",
       " 'G': '4',\n",
       " 'H': '4',\n",
       " 'I': '4',\n",
       " 'J': '5',\n",
       " 'K': '5',\n",
       " 'L': '5',\n",
       " 'M': '6',\n",
       " 'N': '6',\n",
       " 'O': '6',\n",
       " 'P': '7',\n",
       " 'Q': '7',\n",
       " 'R': '7',\n",
       " 'S': '7',\n",
       " 'T': '8',\n",
       " 'U': '8',\n",
       " 'V': '8',\n",
       " 'W': '9',\n",
       " 'X': '9',\n",
       " 'Y': '9',\n",
       " 'Z': '9'}"
      ]
     },
     "execution_count": 29,
     "metadata": {},
     "output_type": "execute_result"
    }
   ],
   "source": [
    "full_phone = {c : v for k, v in phone.items() for c in k}\n",
    "full_phone"
   ]
  },
  {
   "cell_type": "code",
   "execution_count": 54,
   "metadata": {},
   "outputs": [
    {
     "data": {
      "text/plain": [
       "0      ALVAREZ\n",
       "1       HOWELL\n",
       "2          ALI\n",
       "3    RODRIGUEZ\n",
       "4    WILKINSON\n",
       "Name: name, dtype: object"
      ]
     },
     "execution_count": 54,
     "metadata": {},
     "output_type": "execute_result"
    }
   ],
   "source": [
    "last_names = customers[\"name\"].str.split(\" \").str[1].str.upper()\n",
    "last_names.head()"
   ]
  },
  {
   "cell_type": "code",
   "execution_count": 55,
   "metadata": {},
   "outputs": [
    {
     "data": {
      "text/plain": [
       "0    3153775031\n",
       "1    6805378725\n",
       "2    3158466054\n",
       "3    5162752292\n",
       "4    8388306960\n",
       "Name: phone, dtype: object"
      ]
     },
     "execution_count": 55,
     "metadata": {},
     "output_type": "execute_result"
    }
   ],
   "source": [
    "phone_numbers = customers[\"phone\"].str.replace(\"-\", \"\")\n",
    "phone_numbers.head()"
   ]
  },
  {
   "cell_type": "code",
   "execution_count": 58,
   "metadata": {},
   "outputs": [],
   "source": [
    "def find_investigators_number(last_names, phone_numbers):\n",
    "    for last_name, num in zip(last_names, phone_numbers):\n",
    "        if len(last_name) == 10 and '1' not in num and '0' not in num:\n",
    "            name_num = ''\n",
    "            for c in last_name:\n",
    "                name_num += full_phone[c]\n",
    "\n",
    "            if name_num == num:\n",
    "                break\n",
    "\n",
    "    return num[:3] + \"-\" + num[3:6] + \"-\" + num[6:]"
   ]
  },
  {
   "cell_type": "code",
   "execution_count": 59,
   "metadata": {},
   "outputs": [
    {
     "data": {
      "text/plain": [
       "'826-636-2286'"
      ]
     },
     "execution_count": 59,
     "metadata": {},
     "output_type": "execute_result"
    }
   ],
   "source": [
    "find_investigators_number(list(last_names), list(phone_numbers))"
   ]
  }
 ],
 "metadata": {
  "kernelspec": {
   "display_name": "base",
   "language": "python",
   "name": "python3"
  },
  "language_info": {
   "codemirror_mode": {
    "name": "ipython",
    "version": 3
   },
   "file_extension": ".py",
   "mimetype": "text/x-python",
   "name": "python",
   "nbconvert_exporter": "python",
   "pygments_lexer": "ipython3",
   "version": "3.9.13"
  }
 },
 "nbformat": 4,
 "nbformat_minor": 2
}
